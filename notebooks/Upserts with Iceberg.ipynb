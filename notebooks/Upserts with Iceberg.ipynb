{
 "cells": [
  {
   "cell_type": "code",
   "execution_count": 1,
   "id": "9e8e0caf-1506-408c-9c0b-ed1156ddfacb",
   "metadata": {},
   "outputs": [
    {
     "name": "stderr",
     "output_type": "stream",
     "text": [
      "24/11/04 17:01:24 WARN SparkSession: Using an existing Spark session; only runtime SQL configurations will take effect.\n"
     ]
    },
    {
     "data": {
      "text/html": [
       "\n",
       "            <div>\n",
       "                <p><b>SparkSession - in-memory</b></p>\n",
       "                \n",
       "        <div>\n",
       "            <p><b>SparkContext</b></p>\n",
       "\n",
       "            <p><a href=\"http://46e3418f91ed:4041\">Spark UI</a></p>\n",
       "\n",
       "            <dl>\n",
       "              <dt>Version</dt>\n",
       "                <dd><code>v3.5.1</code></dd>\n",
       "              <dt>Master</dt>\n",
       "                <dd><code>local[*]</code></dd>\n",
       "              <dt>AppName</dt>\n",
       "                <dd><code>PySparkShell</code></dd>\n",
       "            </dl>\n",
       "        </div>\n",
       "        \n",
       "            </div>\n",
       "        "
      ],
      "text/plain": [
       "<pyspark.sql.session.SparkSession at 0x70081d5a7a00>"
      ]
     },
     "execution_count": 1,
     "metadata": {},
     "output_type": "execute_result"
    }
   ],
   "source": [
    "from pyspark.sql import SparkSession\n",
    "spark = SparkSession.builder\\\n",
    "    .master(\"spark://46e3418f91ed:7077\") \\\n",
    "    .appName(\"Iceberg-Spark-Session\") \\\n",
    "    .getOrCreate()\n",
    "\n",
    "spark"
   ]
  },
  {
   "cell_type": "code",
   "execution_count": 2,
   "id": "65bbd2f7-17ee-4c6b-bf69-edc08ad35f8e",
   "metadata": {},
   "outputs": [],
   "source": [
    "df = spark.read.csv(\"/home/iceberg/warehouse/Customers.csv\", header=True, inferSchema=True)\n",
    "df = df.limit(100)"
   ]
  },
  {
   "cell_type": "code",
   "execution_count": 4,
   "id": "716b153a-6682-4c4a-9af9-4eb563e2151e",
   "metadata": {},
   "outputs": [
    {
     "data": {
      "text/plain": [
       "DataFrame[]"
      ]
     },
     "execution_count": 4,
     "metadata": {},
     "output_type": "execute_result"
    }
   ],
   "source": [
    "spark.sql(\"drop table iceberg.target_customers\")"
   ]
  },
  {
   "cell_type": "code",
   "execution_count": 5,
   "id": "17e2b902-170e-4371-819d-580b9447996d",
   "metadata": {},
   "outputs": [
    {
     "data": {
      "text/plain": [
       "DataFrame[]"
      ]
     },
     "execution_count": 5,
     "metadata": {},
     "output_type": "execute_result"
    }
   ],
   "source": [
    "spark.sql(\"drop database iceberg\")"
   ]
  },
  {
   "cell_type": "code",
   "execution_count": 6,
   "id": "4d86539e-a3b3-45c7-932b-59061aff0a8c",
   "metadata": {},
   "outputs": [],
   "source": [
    "spark.sql(\"show databases\");"
   ]
  },
  {
   "cell_type": "code",
   "execution_count": 3,
   "id": "41721eff-deda-44a2-8c6c-7ed70384b504",
   "metadata": {},
   "outputs": [
    {
     "name": "stderr",
     "output_type": "stream",
     "text": [
      "                                                                                \r"
     ]
    }
   ],
   "source": [
    "#write our source table\n",
    "df.write.saveAsTable(\"iceberg.source_customers\", mode=\"overwrite\")"
   ]
  },
  {
   "cell_type": "code",
   "execution_count": 4,
   "id": "1fe1d0c7-8de2-4527-abd0-4754394d9d69",
   "metadata": {},
   "outputs": [],
   "source": [
    "#write dest table\n",
    "df.write.saveAsTable(\"iceberg.target_customers\")"
   ]
  },
  {
   "cell_type": "code",
   "execution_count": 7,
   "id": "cebf22d5-add5-4dd8-8978-50582716d1fe",
   "metadata": {},
   "outputs": [
    {
     "data": {
      "text/plain": [
       "DataFrame[CustomerID: int, Gender: string, Age: int, Annual Income ($): int, Spending Score (1-100): int, Profession: string, Work Experience: int, Family Size: int]"
      ]
     },
     "execution_count": 7,
     "metadata": {},
     "output_type": "execute_result"
    }
   ],
   "source": [
    "spark.sql(\"select * from iceberg.source_customers\")"
   ]
  },
  {
   "cell_type": "code",
   "execution_count": null,
   "id": "fca251ab-b634-4376-9912-61a0e359bf88",
   "metadata": {},
   "outputs": [],
   "source": [
    "%%sql\n",
    "select * from iceberg.target_customers"
   ]
  },
  {
   "cell_type": "code",
   "execution_count": 9,
   "id": "74fe43fc-bc2a-45fb-9bf2-7ff090fc36e4",
   "metadata": {},
   "outputs": [
    {
     "data": {
      "text/html": [
       "<table>\n",
       "    <thead>\n",
       "        <tr>\n",
       "        </tr>\n",
       "    </thead>\n",
       "    <tbody>\n",
       "    </tbody>\n",
       "</table>"
      ],
      "text/plain": [
       "++\n",
       "||\n",
       "++\n",
       "++"
      ]
     },
     "execution_count": 9,
     "metadata": {},
     "output_type": "execute_result"
    }
   ],
   "source": [
    "%%sql\n",
    "-- insert into the source\n",
    "insert into iceberg.source_customers values(0,\"Male\", 23,13000,84,\"Lawyer\",4,7);"
   ]
  },
  {
   "cell_type": "code",
   "execution_count": 10,
   "id": "44cbfc11-abe2-40b6-8d16-3b4d417df6b8",
   "metadata": {},
   "outputs": [
    {
     "data": {
      "text/html": [
       "<table>\n",
       "    <thead>\n",
       "        <tr>\n",
       "        </tr>\n",
       "    </thead>\n",
       "    <tbody>\n",
       "    </tbody>\n",
       "</table>"
      ],
      "text/plain": [
       "++\n",
       "||\n",
       "++\n",
       "++"
      ]
     },
     "execution_count": 10,
     "metadata": {},
     "output_type": "execute_result"
    }
   ],
   "source": [
    "%%sql\n",
    "-- update the source \n",
    "update iceberg.source_customers set Profession = \"None\" where CustomerID = 1; "
   ]
  },
  {
   "cell_type": "code",
   "execution_count": 11,
   "id": "3408ccc1-f1e6-46a1-9974-e5c2becd31c1",
   "metadata": {},
   "outputs": [
    {
     "data": {
      "text/html": [
       "<table>\n",
       "    <thead>\n",
       "        <tr>\n",
       "        </tr>\n",
       "    </thead>\n",
       "    <tbody>\n",
       "    </tbody>\n",
       "</table>"
      ],
      "text/plain": [
       "++\n",
       "||\n",
       "++\n",
       "++"
      ]
     },
     "execution_count": 11,
     "metadata": {},
     "output_type": "execute_result"
    }
   ],
   "source": [
    "%%sql\n",
    "-- delete from the source\n",
    "delete from iceberg.source_customers where CustomerID = 2;"
   ]
  },
  {
   "cell_type": "code",
   "execution_count": 12,
   "id": "fc4713cb-b852-4d01-a215-75ebc9030eba",
   "metadata": {},
   "outputs": [
    {
     "data": {
      "text/html": [
       "<table>\n",
       "    <thead>\n",
       "        <tr>\n",
       "            <th>CustomerID</th>\n",
       "            <th>Gender</th>\n",
       "            <th>Age</th>\n",
       "            <th>Annual Income ($)</th>\n",
       "            <th>Spending Score (1-100)</th>\n",
       "            <th>Profession</th>\n",
       "            <th>Work Experience</th>\n",
       "            <th>Family Size</th>\n",
       "            <th>CDC_flag</th>\n",
       "        </tr>\n",
       "    </thead>\n",
       "    <tbody>\n",
       "        <tr>\n",
       "            <td>0</td>\n",
       "            <td>Male</td>\n",
       "            <td>23</td>\n",
       "            <td>13000</td>\n",
       "            <td>84</td>\n",
       "            <td>Lawyer</td>\n",
       "            <td>4</td>\n",
       "            <td>7</td>\n",
       "            <td>I</td>\n",
       "        </tr>\n",
       "        <tr>\n",
       "            <td>1</td>\n",
       "            <td>Male</td>\n",
       "            <td>25</td>\n",
       "            <td>15000</td>\n",
       "            <td>39</td>\n",
       "            <td>None</td>\n",
       "            <td>None</td>\n",
       "            <td>None</td>\n",
       "            <td>U</td>\n",
       "        </tr>\n",
       "        <tr>\n",
       "            <td>2</td>\n",
       "            <td>None</td>\n",
       "            <td>None</td>\n",
       "            <td>None</td>\n",
       "            <td>None</td>\n",
       "            <td>None</td>\n",
       "            <td>None</td>\n",
       "            <td>None</td>\n",
       "            <td>D</td>\n",
       "        </tr>\n",
       "    </tbody>\n",
       "</table>"
      ],
      "text/plain": [
       "+------------+--------+------+-------------------+------------------------+------------+-----------------+-------------+----------+\n",
       "| CustomerID | Gender |  Age | Annual Income ($) | Spending Score (1-100) | Profession | Work Experience | Family Size | CDC_flag |\n",
       "+------------+--------+------+-------------------+------------------------+------------+-----------------+-------------+----------+\n",
       "|          0 |   Male |   23 |             13000 |                     84 |     Lawyer |               4 |           7 |        I |\n",
       "|          1 |   Male |   25 |             15000 |                     39 |       None |            None |        None |        U |\n",
       "|          2 |   None | None |              None |                   None |       None |            None |        None |        D |\n",
       "+------------+--------+------+-------------------+------------------------+------------+-----------------+-------------+----------+"
      ]
     },
     "execution_count": 12,
     "metadata": {},
     "output_type": "execute_result"
    }
   ],
   "source": [
    "%%sql\n",
    "--create CTE to capture any changes, updates deletes inserts at the source table \n",
    "with cdc as(     \n",
    "SELECT COALESCE(s.CustomerID, t.CustomerID) AS CustomerID,\n",
    "       s.Gender AS Gender,\n",
    "       s.Age AS Age,\n",
    "       s.`Annual Income ($)` AS `Annual Income ($)`,\n",
    "       s.`Spending Score (1-100)` AS `Spending Score (1-100)`,\n",
    "       s.Profession AS Profession,\n",
    "       s.`Work Experience` AS `Work Experience`,\n",
    "       s.`Family Size` AS `Family Size`,\n",
    "       CASE\n",
    "            WHEN s.CustomerID IS NULL THEN 'D'\n",
    "            WHEN t.CustomerID IS NULL THEN 'I'\n",
    "            ELSE 'U' \n",
    "       END AS CDC_flag\n",
    "FROM \n",
    "    iceberg.source_customers AS s \n",
    "FULL OUTER JOIN \n",
    "    iceberg.target_customers AS t\n",
    "ON \n",
    "    s.CustomerID = t.CustomerID\n",
    "WHERE( s.CustomerID is null or\n",
    "    \n",
    "       t.CustomerID is null or    \n",
    "    \n",
    "    NOT (\n",
    "           s.Gender = t.Gender AND\n",
    "           s.Age = t.Age AND\n",
    "           s.`Annual Income ($)` = t.`Annual Income ($)` AND\n",
    "           s.`Spending Score (1-100)` = t.`Spending Score (1-100)` AND\n",
    "           s.Profession = t.Profession AND\n",
    "           s.`Work Experience` = t.`Work Experience` AND\n",
    "           s.`Family Size` = t.`Family Size`\n",
    "          )    \n",
    "    )\n",
    "    )\n",
    "select * from cdc"
   ]
  },
  {
   "cell_type": "code",
   "execution_count": 13,
   "id": "3de02276-56e0-4c5c-b7d5-bc880551a677",
   "metadata": {},
   "outputs": [
    {
     "data": {
      "text/html": [
       "<table>\n",
       "    <thead>\n",
       "        <tr>\n",
       "        </tr>\n",
       "    </thead>\n",
       "    <tbody>\n",
       "    </tbody>\n",
       "</table>"
      ],
      "text/plain": [
       "++\n",
       "||\n",
       "++\n",
       "++"
      ]
     },
     "execution_count": 13,
     "metadata": {},
     "output_type": "execute_result"
    }
   ],
   "source": [
    "%%sql\n",
    "-- now use this cte to update the dest table with any changes at the source     \n",
    "with cdc as(     \n",
    "SELECT COALESCE(s.CustomerID, t.CustomerID) AS CustomerID,\n",
    "       s.Gender AS Gender,\n",
    "       s.Age AS Age,\n",
    "       s.`Annual Income ($)` AS `Annual Income ($)`,\n",
    "       s.`Spending Score (1-100)` AS `Spending Score (1-100)`,\n",
    "       s.Profession AS Profession,\n",
    "       s.`Work Experience` AS `Work Experience`,\n",
    "       s.`Family Size` AS `Family Size`,\n",
    "       CASE\n",
    "            WHEN s.CustomerID IS NULL THEN 'D'\n",
    "            WHEN t.CustomerID IS NULL THEN 'I'\n",
    "            ELSE 'U' \n",
    "       END AS CDC_flag\n",
    "FROM \n",
    "    iceberg.source_customers AS s \n",
    "FULL OUTER JOIN \n",
    "    iceberg.target_customers AS t\n",
    "ON \n",
    "    s.CustomerID = t.CustomerID\n",
    "WHERE( s.CustomerID is null or\n",
    "    \n",
    "       t.CustomerID is null or    \n",
    "    \n",
    "    NOT (\n",
    "           s.Gender = t.Gender AND\n",
    "           s.Age = t.Age AND\n",
    "           s.`Annual Income ($)` = t.`Annual Income ($)` AND\n",
    "           s.`Spending Score (1-100)` = t.`Spending Score (1-100)` AND\n",
    "           s.Profession = t.Profession AND\n",
    "           s.`Work Experience` = t.`Work Experience` AND\n",
    "           s.`Family Size` = t.`Family Size`\n",
    "          )    \n",
    "    )\n",
    "    )\n",
    "    \n",
    "MERGE into iceberg.target_customers \n",
    "using cdc \n",
    "on iceberg.target_customers.CustomerID = cdc.CustomerID \n",
    "WHEN MATCHED AND cdc.CDC_flag = 'D' THEN DELETE\n",
    "WHEN MATCHED AND cdc.CDC_flag = 'U' THEN UPDATE SET *\n",
    "WHEN NOT MATCHED THEN INSERT *"
   ]
  },
  {
   "cell_type": "code",
   "execution_count": 14,
   "id": "945c6472-664a-4af7-812c-6d03a82292ea",
   "metadata": {},
   "outputs": [
    {
     "data": {
      "text/html": [
       "<table>\n",
       "    <thead>\n",
       "        <tr>\n",
       "            <th>count(1)</th>\n",
       "        </tr>\n",
       "    </thead>\n",
       "    <tbody>\n",
       "        <tr>\n",
       "            <td>100</td>\n",
       "        </tr>\n",
       "    </tbody>\n",
       "</table>"
      ],
      "text/plain": [
       "+----------+\n",
       "| count(1) |\n",
       "+----------+\n",
       "|      100 |\n",
       "+----------+"
      ]
     },
     "execution_count": 14,
     "metadata": {},
     "output_type": "execute_result"
    }
   ],
   "source": [
    "%%sql\n",
    "select count(*) \n",
    "from \n",
    "    iceberg.source_customers"
   ]
  },
  {
   "cell_type": "code",
   "execution_count": 15,
   "id": "6fc42d22-c02a-4f84-a990-6fb7085158b2",
   "metadata": {},
   "outputs": [
    {
     "data": {
      "text/html": [
       "<table>\n",
       "    <thead>\n",
       "        <tr>\n",
       "            <th>count(1)</th>\n",
       "        </tr>\n",
       "    </thead>\n",
       "    <tbody>\n",
       "        <tr>\n",
       "            <td>100</td>\n",
       "        </tr>\n",
       "    </tbody>\n",
       "</table>"
      ],
      "text/plain": [
       "+----------+\n",
       "| count(1) |\n",
       "+----------+\n",
       "|      100 |\n",
       "+----------+"
      ]
     },
     "execution_count": 15,
     "metadata": {},
     "output_type": "execute_result"
    }
   ],
   "source": [
    "%%sql\n",
    "-- the insertion occurs at the source now is been mergrd into the dest table\n",
    "select count(*) \n",
    "from \n",
    "    iceberg.target_customers"
   ]
  },
  {
   "cell_type": "code",
   "execution_count": 16,
   "id": "e7ede1dd-6ef4-4e2e-bd2a-9b8435b3a859",
   "metadata": {},
   "outputs": [
    {
     "data": {
      "text/html": [
       "<table>\n",
       "    <thead>\n",
       "        <tr>\n",
       "            <th>made_current_at</th>\n",
       "            <th>snapshot_id</th>\n",
       "            <th>parent_id</th>\n",
       "            <th>is_current_ancestor</th>\n",
       "        </tr>\n",
       "    </thead>\n",
       "    <tbody>\n",
       "        <tr>\n",
       "            <td>2024-07-02 18:41:16.500000</td>\n",
       "            <td>1629686733036594320</td>\n",
       "            <td>None</td>\n",
       "            <td>True</td>\n",
       "        </tr>\n",
       "        <tr>\n",
       "            <td>2024-07-02 18:42:48.565000</td>\n",
       "            <td>4068554996449296170</td>\n",
       "            <td>1629686733036594320</td>\n",
       "            <td>True</td>\n",
       "        </tr>\n",
       "    </tbody>\n",
       "</table>"
      ],
      "text/plain": [
       "+----------------------------+---------------------+---------------------+---------------------+\n",
       "|            made_current_at |         snapshot_id |           parent_id | is_current_ancestor |\n",
       "+----------------------------+---------------------+---------------------+---------------------+\n",
       "| 2024-07-02 18:41:16.500000 | 1629686733036594320 |                None |                True |\n",
       "| 2024-07-02 18:42:48.565000 | 4068554996449296170 | 1629686733036594320 |                True |\n",
       "+----------------------------+---------------------+---------------------+---------------------+"
      ]
     },
     "execution_count": 16,
     "metadata": {},
     "output_type": "execute_result"
    }
   ],
   "source": [
    "%%sql \n",
    "--we can see that the target table now have a new version    \n",
    "select * from iceberg.target_customers.history"
   ]
  },
  {
   "cell_type": "code",
   "execution_count": null,
   "id": "bff96bb1-057e-42b7-94df-3d08152f4b07",
   "metadata": {},
   "outputs": [],
   "source": []
  }
 ],
 "metadata": {
  "kernelspec": {
   "display_name": "Python 3 (ipykernel)",
   "language": "python",
   "name": "python3"
  },
  "language_info": {
   "codemirror_mode": {
    "name": "ipython",
    "version": 3
   },
   "file_extension": ".py",
   "mimetype": "text/x-python",
   "name": "python",
   "nbconvert_exporter": "python",
   "pygments_lexer": "ipython3",
   "version": "3.9.18"
  }
 },
 "nbformat": 4,
 "nbformat_minor": 5
}
