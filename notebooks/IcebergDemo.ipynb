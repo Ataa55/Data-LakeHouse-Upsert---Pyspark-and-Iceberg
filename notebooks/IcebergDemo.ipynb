{
 "cells": [
  {
   "cell_type": "code",
   "execution_count": null,
   "id": "9e8e0caf-1506-408c-9c0b-ed1156ddfacb",
   "metadata": {},
   "outputs": [],
   "source": [
    "from pyspark.sql import SparkSession\n",
    "spark = SparkSession.builder.appName(\"Jupyter\").getOrCreate()\n",
    "\n",
    "spark"
   ]
  },
  {
   "cell_type": "code",
   "execution_count": null,
   "id": "65bbd2f7-17ee-4c6b-bf69-edc08ad35f8e",
   "metadata": {},
   "outputs": [],
   "source": [
    "df = spark.read.csv(\"/home/iceberg/warehouse/Customers.csv\", header=True, inferSchema=True)\n"
   ]
  },
  {
   "cell_type": "code",
   "execution_count": null,
   "id": "7fea4f41-5d8e-40ee-8c5b-b1a179610605",
   "metadata": {},
   "outputs": [],
   "source": [
    "df.show(5)"
   ]
  },
  {
   "cell_type": "code",
   "execution_count": null,
   "id": "41721eff-deda-44a2-8c6c-7ed70384b504",
   "metadata": {},
   "outputs": [],
   "source": [
    "df.write.saveAsTable(\"default.source_customers\", mode=\"overwrite\")"
   ]
  },
  {
   "cell_type": "code",
   "execution_count": null,
   "id": "1fe1d0c7-8de2-4527-abd0-4754394d9d69",
   "metadata": {},
   "outputs": [],
   "source": [
    "df.write.saveAsTable(\"iceberg.target_customers\")"
   ]
  },
  {
   "cell_type": "code",
   "execution_count": null,
   "id": "fc4713cb-b852-4d01-a215-75ebc9030eba",
   "metadata": {},
   "outputs": [],
   "source": [
    "%%sql\n",
    "with cdc as(     \n",
    "SELECT COALESCE(s.CustomerID, t.CustomerID) AS CustomerID,\n",
    "       s.Gender AS Gender,\n",
    "       s.Age AS Age,\n",
    "       s.`Annual Income ($)` AS `Annual Income ($)`,\n",
    "       s.`Spending Score (1-100)` AS `Spending Score (1-100)`,\n",
    "       s.Profession AS Profession,\n",
    "       s.`Work Experience` AS `Work Experience`,\n",
    "       s.`Family Size` AS `Family Size`,\n",
    "       CASE\n",
    "            WHEN s.CustomerID IS NULL THEN 'D'\n",
    "            WHEN t.CustomerID IS NULL THEN 'I'\n",
    "            ELSE 'U' \n",
    "       END AS CDC_flag\n",
    "FROM \n",
    "    nyc.source_customers AS s \n",
    "FULL OUTER JOIN \n",
    "    nyc.target_customers AS t\n",
    "ON \n",
    "    s.CustomerID = t.CustomerID\n",
    "WHERE( s.CustomerID is null or\n",
    "    \n",
    "       t.CustomerID is null or    \n",
    "    \n",
    "    NOT (\n",
    "           s.Gender = t.Gender AND\n",
    "           s.Age = t.Age AND\n",
    "           s.`Annual Income ($)` = t.`Annual Income ($)` AND\n",
    "           s.`Spending Score (1-100)` = t.`Spending Score (1-100)` AND\n",
    "           s.Profession = t.Profession AND\n",
    "           s.`Work Experience` = t.`Work Experience` AND\n",
    "           s.`Family Size` = t.`Family Size`\n",
    "          )    \n",
    "    )\n",
    "    )\n",
    "select * from cdc"
   ]
  },
  {
   "cell_type": "code",
   "execution_count": null,
   "id": "3de02276-56e0-4c5c-b7d5-bc880551a677",
   "metadata": {},
   "outputs": [],
   "source": [
    "%%sql\n",
    "with cdc as(     \n",
    "SELECT COALESCE(s.CustomerID, t.CustomerID) AS CustomerID,\n",
    "       s.Gender AS Gender,\n",
    "       s.Age AS Age,\n",
    "       s.`Annual Income ($)` AS `Annual Income ($)`,\n",
    "       s.`Spending Score (1-100)` AS `Spending Score (1-100)`,\n",
    "       s.Profession AS Profession,\n",
    "       s.`Work Experience` AS `Work Experience`,\n",
    "       s.`Family Size` AS `Family Size`,\n",
    "       CASE\n",
    "            WHEN s.CustomerID IS NULL THEN 'D'\n",
    "            WHEN t.CustomerID IS NULL THEN 'I'\n",
    "            ELSE 'U' \n",
    "       END AS CDC_flag\n",
    "FROM \n",
    "    nyc.source_customers AS s \n",
    "FULL OUTER JOIN \n",
    "    nyc.target_customers AS t\n",
    "ON \n",
    "    s.CustomerID = t.CustomerID\n",
    "WHERE( s.CustomerID is null or\n",
    "    \n",
    "       t.CustomerID is null or    \n",
    "    \n",
    "    NOT (\n",
    "           s.Gender = t.Gender AND\n",
    "           s.Age = t.Age AND\n",
    "           s.`Annual Income ($)` = t.`Annual Income ($)` AND\n",
    "           s.`Spending Score (1-100)` = t.`Spending Score (1-100)` AND\n",
    "           s.Profession = t.Profession AND\n",
    "           s.`Work Experience` = t.`Work Experience` AND\n",
    "           s.`Family Size` = t.`Family Size`\n",
    "          )    \n",
    "    )\n",
    "    )\n",
    "    \n",
    "MERGE into nyc.target_customers \n",
    "using cdc \n",
    "on nyc.target_customers.CustomerID = cdc.CustomerID \n",
    "WHEN MATCHED AND cdc.CDC_flag = 'D' THEN DELETE\n",
    "WHEN MATCHED AND cdc.CDC_flag = 'U' THEN UPDATE SET *\n",
    "    -- iceberg_taxis.vendorID = cdc.SvendorID\n",
    "WHEN NOT MATCHED THEN INSERT *\n",
    "--where s.vendorID = 3"
   ]
  },
  {
   "cell_type": "code",
   "execution_count": null,
   "id": "f600c77d-0b6c-4afd-a109-e8dbf95a79a5",
   "metadata": {},
   "outputs": [],
   "source": [
    "%%sql\n",
    "select * from nyc.target_customers"
   ]
  },
  {
   "cell_type": "code",
   "execution_count": null,
   "id": "945c6472-664a-4af7-812c-6d03a82292ea",
   "metadata": {},
   "outputs": [],
   "source": [
    "%%sql\n",
    "select count(*) \n",
    "from \n",
    "    nyc.source_customers"
   ]
  },
  {
   "cell_type": "code",
   "execution_count": null,
   "id": "6fc42d22-c02a-4f84-a990-6fb7085158b2",
   "metadata": {},
   "outputs": [],
   "source": [
    "%%sql\n",
    "select count(*) \n",
    "from \n",
    "    nyc.target_customers"
   ]
  },
  {
   "cell_type": "code",
   "execution_count": null,
   "id": "e7ede1dd-6ef4-4e2e-bd2a-9b8435b3a859",
   "metadata": {},
   "outputs": [],
   "source": []
  }
 ],
 "metadata": {
  "kernelspec": {
   "display_name": "Python 3 (ipykernel)",
   "language": "python",
   "name": "python3"
  },
  "language_info": {
   "codemirror_mode": {
    "name": "ipython",
    "version": 3
   },
   "file_extension": ".py",
   "mimetype": "text/x-python",
   "name": "python",
   "nbconvert_exporter": "python",
   "pygments_lexer": "ipython3",
   "version": "3.9.18"
  }
 },
 "nbformat": 4,
 "nbformat_minor": 5
}
